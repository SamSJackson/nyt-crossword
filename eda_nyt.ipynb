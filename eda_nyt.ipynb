{
 "cells": [
  {
   "cell_type": "code",
   "execution_count": 8,
   "id": "9e042f5a-e987-425e-bce2-01142a199adf",
   "metadata": {},
   "outputs": [],
   "source": [
    "import pandas as pd\n",
    "import numpy as np\n",
    "import altair as alt"
   ]
  },
  {
   "cell_type": "code",
   "execution_count": 9,
   "id": "2d0843ef-34a4-4177-a2f2-15c95003c99e",
   "metadata": {},
   "outputs": [],
   "source": [
    "df = pd.read_csv(\"puzzle_words_all.csv\")"
   ]
  },
  {
   "cell_type": "code",
   "execution_count": 27,
   "id": "21493e3b-f4c2-482c-b1d0-51ae717007c9",
   "metadata": {},
   "outputs": [
    {
     "data": {
      "text/html": [
       "\n",
       "<style>\n",
       "  #altair-viz-6aa957eb0edb48ee8a8cc7c725103cb2.vega-embed {\n",
       "    width: 100%;\n",
       "    display: flex;\n",
       "  }\n",
       "\n",
       "  #altair-viz-6aa957eb0edb48ee8a8cc7c725103cb2.vega-embed details,\n",
       "  #altair-viz-6aa957eb0edb48ee8a8cc7c725103cb2.vega-embed details summary {\n",
       "    position: relative;\n",
       "  }\n",
       "</style>\n",
       "<div id=\"altair-viz-6aa957eb0edb48ee8a8cc7c725103cb2\"></div>\n",
       "<script type=\"text/javascript\">\n",
       "  var VEGA_DEBUG = (typeof VEGA_DEBUG == \"undefined\") ? {} : VEGA_DEBUG;\n",
       "  (function(spec, embedOpt){\n",
       "    let outputDiv = document.currentScript.previousElementSibling;\n",
       "    if (outputDiv.id !== \"altair-viz-6aa957eb0edb48ee8a8cc7c725103cb2\") {\n",
       "      outputDiv = document.getElementById(\"altair-viz-6aa957eb0edb48ee8a8cc7c725103cb2\");\n",
       "    }\n",
       "    const paths = {\n",
       "      \"vega\": \"https://cdn.jsdelivr.net/npm/vega@5?noext\",\n",
       "      \"vega-lib\": \"https://cdn.jsdelivr.net/npm/vega-lib?noext\",\n",
       "      \"vega-lite\": \"https://cdn.jsdelivr.net/npm/vega-lite@5.20.1?noext\",\n",
       "      \"vega-embed\": \"https://cdn.jsdelivr.net/npm/vega-embed@6?noext\",\n",
       "    };\n",
       "\n",
       "    function maybeLoadScript(lib, version) {\n",
       "      var key = `${lib.replace(\"-\", \"\")}_version`;\n",
       "      return (VEGA_DEBUG[key] == version) ?\n",
       "        Promise.resolve(paths[lib]) :\n",
       "        new Promise(function(resolve, reject) {\n",
       "          var s = document.createElement('script');\n",
       "          document.getElementsByTagName(\"head\")[0].appendChild(s);\n",
       "          s.async = true;\n",
       "          s.onload = () => {\n",
       "            VEGA_DEBUG[key] = version;\n",
       "            return resolve(paths[lib]);\n",
       "          };\n",
       "          s.onerror = () => reject(`Error loading script: ${paths[lib]}`);\n",
       "          s.src = paths[lib];\n",
       "        });\n",
       "    }\n",
       "\n",
       "    function showError(err) {\n",
       "      outputDiv.innerHTML = `<div class=\"error\" style=\"color:red;\">${err}</div>`;\n",
       "      throw err;\n",
       "    }\n",
       "\n",
       "    function displayChart(vegaEmbed) {\n",
       "      vegaEmbed(outputDiv, spec, embedOpt)\n",
       "        .catch(err => showError(`Javascript Error: ${err.message}<br>This usually means there's a typo in your chart specification. See the javascript console for the full traceback.`));\n",
       "    }\n",
       "\n",
       "    if(typeof define === \"function\" && define.amd) {\n",
       "      requirejs.config({paths});\n",
       "      require([\"vega-embed\"], displayChart, err => showError(`Error loading script: ${err.message}`));\n",
       "    } else {\n",
       "      maybeLoadScript(\"vega\", \"5\")\n",
       "        .then(() => maybeLoadScript(\"vega-lite\", \"5.20.1\"))\n",
       "        .then(() => maybeLoadScript(\"vega-embed\", \"6\"))\n",
       "        .catch(showError)\n",
       "        .then(() => displayChart(vegaEmbed));\n",
       "    }\n",
       "  })({\"config\": {\"view\": {\"continuousWidth\": 300, \"continuousHeight\": 300}}, \"data\": {\"name\": \"data-418d4f33d92a499a65918b1b41bdbae0\"}, \"mark\": {\"type\": \"bar\"}, \"encoding\": {\"x\": {\"field\": \"count\", \"type\": \"quantitative\"}, \"y\": {\"field\": \"index\", \"sort\": \"-x\", \"type\": \"nominal\"}}, \"$schema\": \"https://vega.github.io/schema/vega-lite/v5.20.1.json\", \"datasets\": {\"data-418d4f33d92a499a65918b1b41bdbae0\": [{\"index\": \"YES\", \"count\": 58}, {\"index\": \"SKY\", \"count\": 50}, {\"index\": \"OBAMA\", \"count\": 41}, {\"index\": \"OCEAN\", \"count\": 39}, {\"index\": \"EMAIL\", \"count\": 37}, {\"index\": \"SLY\", \"count\": 35}, {\"index\": \"EYE\", \"count\": 35}, {\"index\": \"SPY\", \"count\": 34}, {\"index\": \"RED\", \"count\": 34}, {\"index\": \"ONE\", \"count\": 34}, {\"index\": \"SEE\", \"count\": 34}, {\"index\": \"EYES\", \"count\": 33}, {\"index\": \"ADS\", \"count\": 33}, {\"index\": \"STY\", \"count\": 31}, {\"index\": \"GAS\", \"count\": 30}, {\"index\": \"DRY\", \"count\": 30}, {\"index\": \"ARENA\", \"count\": 30}, {\"index\": \"APPLE\", \"count\": 29}, {\"index\": \"TEN\", \"count\": 29}, {\"index\": \"ALONE\", \"count\": 29}, {\"index\": \"ALIEN\", \"count\": 29}, {\"index\": \"KEY\", \"count\": 28}, {\"index\": \"ELITE\", \"count\": 28}, {\"index\": \"ESS\", \"count\": 27}, {\"index\": \"TWO\", \"count\": 27}, {\"index\": \"ACHOO\", \"count\": 27}, {\"index\": \"SET\", \"count\": 26}, {\"index\": \"TREE\", \"count\": 26}, {\"index\": \"EXTRA\", \"count\": 26}, {\"index\": \"ALOHA\", \"count\": 26}, {\"index\": \"THREE\", \"count\": 26}, {\"index\": \"SPA\", \"count\": 25}, {\"index\": \"UTAH\", \"count\": 24}, {\"index\": \"ALIBI\", \"count\": 24}, {\"index\": \"ALPHA\", \"count\": 24}, {\"index\": \"SEA\", \"count\": 24}, {\"index\": \"SOY\", \"count\": 23}, {\"index\": \"OSCAR\", \"count\": 23}, {\"index\": \"HELLO\", \"count\": 23}, {\"index\": \"ONION\", \"count\": 23}, {\"index\": \"ORGAN\", \"count\": 23}, {\"index\": \"O\", \"count\": 23}, {\"index\": \"OLIVE\", \"count\": 23}, {\"index\": \"ADORE\", \"count\": 23}, {\"index\": \"ADELE\", \"count\": 23}, {\"index\": \"AISLE\", \"count\": 22}, {\"index\": \"EMOJI\", \"count\": 22}, {\"index\": \"ABC\", \"count\": 22}, {\"index\": \"NET\", \"count\": 22}, {\"index\": \"ELSE\", \"count\": 22}]}}, {\"mode\": \"vega-lite\"});\n",
       "</script>"
      ],
      "text/plain": [
       "alt.Chart(...)"
      ]
     },
     "execution_count": 27,
     "metadata": {},
     "output_type": "execute_result"
    }
   ],
   "source": [
    "alt.Chart(\n",
    "    df[\"word\"].value_counts()[:50].reset_index(name='count')\n",
    ").mark_bar().encode(\n",
    "    y=alt.Y('index:N', sort='-x'),\n",
    "    x=alt.X('count:Q')\n",
    ")"
   ]
  },
  {
   "cell_type": "code",
   "execution_count": null,
   "id": "e81243bd-0174-4dbf-b7c7-ccef21499ec7",
   "metadata": {},
   "outputs": [],
   "source": []
  }
 ],
 "metadata": {
  "kernelspec": {
   "display_name": "Python 3 (ipykernel)",
   "language": "python",
   "name": "python3"
  },
  "language_info": {
   "codemirror_mode": {
    "name": "ipython",
    "version": 3
   },
   "file_extension": ".py",
   "mimetype": "text/x-python",
   "name": "python",
   "nbconvert_exporter": "python",
   "pygments_lexer": "ipython3",
   "version": "3.10.14"
  }
 },
 "nbformat": 4,
 "nbformat_minor": 5
}
