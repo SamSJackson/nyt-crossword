{
 "cells": [
  {
   "cell_type": "markdown",
   "id": "aefe6fa3-fc75-404a-975d-aa7b0b073542",
   "metadata": {},
   "source": [
    "# Scraping NYT \n",
    "\n",
    "Scraping data from the NYT mini games."
   ]
  },
  {
   "cell_type": "markdown",
   "id": "71f2b713-0581-4c76-8f31-109fa837d201",
   "metadata": {},
   "source": [
    "Data Format Ideal Setup\n",
    "\n",
    "Puzzle metadata.\n",
    "\n",
    "| puzzle_id | publication_date | creator | editor | \n",
    "| --------- | ---------------- | ------------ | ------ | \n",
    "| sample_id    | sample_date       | sample_creator | sample_editor |\n",
    "\n",
    "\n",
    "Other table is information on the puzzles \n",
    "| puzzle_id | clue | answer | direction |\n",
    "| --------- | --- | ------- | ----------|\n",
    "| sample_id | text | ans_text | across     |\n"
   ]
  },
  {
   "cell_type": "code",
   "execution_count": 94,
   "id": "030bb38e-9fd2-415e-9de9-6ee8287785e5",
   "metadata": {},
   "outputs": [],
   "source": [
    "import pandas as pd\n",
    "import numpy as np\n",
    "import json\n",
    "import requests\n",
    "import os \n",
    "\n",
    "from datetime import datetime, timedelta"
   ]
  },
  {
   "cell_type": "code",
   "execution_count": 87,
   "id": "29571182-b65d-428c-81ff-45cd7652ac76",
   "metadata": {},
   "outputs": [],
   "source": [
    "def get_crossword_data(date):\n",
    "    slash_format = date.strftime(\"%Y/%m/%d\")\n",
    "    dash_format = date.strftime(\"%Y-%m-%d\")\n",
    "    \n",
    "    nyt_s=os.environ[\"NYT_S\"]\n",
    "    \n",
    "    cookies = {\n",
    "        \"NYT-S\": f\"{nyt_s}\"\n",
    "    }\n",
    "    \n",
    "    headers = {\n",
    "        'accept': '*/*',\n",
    "        'accept-language': 'en-GB,en;q=0.7',\n",
    "        'content-type': 'application/x-www-form-urlencoded',\n",
    "        'priority': 'u=1, i',\n",
    "        'referer': f'https://www.nytimes.com/crosswords/game/mini/{slash_format}',\n",
    "        'sec-ch-ua': '\"Chromium\";v=\"128\", \"Not;A=Brand\";v=\"24\", \"Brave\";v=\"128\"',\n",
    "        'sec-ch-ua-mobile': '?0',\n",
    "        'sec-ch-ua-platform': '\"Linux\"',\n",
    "        'sec-fetch-dest': 'empty',\n",
    "        'sec-fetch-mode': 'cors',\n",
    "        'sec-fetch-site': 'same-origin',\n",
    "        'sec-gpc': '1',\n",
    "        'user-agent': 'Mozilla/5.0 (X11; Linux x86_64) AppleWebKit/537.36 (KHTML, like Gecko) Chrome/128.0.0.0 Safari/537.36',\n",
    "        'x-games-auth-bypass': 'true',\n",
    "    }\n",
    "    \n",
    "    response = requests.get(f'https://www.nytimes.com/svc/crosswords/v6/puzzle/mini/{dash_format}.json', cookies=cookies, headers=headers)\n",
    "    response_json = response.json()\n",
    "    return response_json"
   ]
  },
  {
   "cell_type": "code",
   "execution_count": 96,
   "id": "6892f42b-bb64-4540-9db0-38e51c79458e",
   "metadata": {},
   "outputs": [],
   "source": [
    "def parse_puzzle_metadata(json_request):\n",
    "    creator = json_request['constructors'][0]\n",
    "    editor = json_request.get('editor', np.nan)\n",
    "    puzzle_id = json_request.get('id', np.nan)\n",
    "    publication_date = json_request.get('publicationDate', np.nan)\n",
    "\n",
    "    datetime_format = \"%Y-%m-%d\"\n",
    "\n",
    "    return {\n",
    "        'creator': creator, \n",
    "        'editor': editor,\n",
    "        'puzzle_id': puzzle_id,\n",
    "        'publication_date': datetime.strptime(publication_date, datetime_format)\n",
    "    }"
   ]
  },
  {
   "cell_type": "code",
   "execution_count": 89,
   "id": "e994971c-4c83-4de1-94a8-f458e46568f6",
   "metadata": {},
   "outputs": [],
   "source": [
    "def parse_clue_data(json_request):\n",
    "    puzzle_id = json_request['id']\n",
    "    answers_df = pd.DataFrame([x for x in json_request['body'][0]['cells'] if len(x) > 0])\n",
    "\n",
    "    answers_df = pd.concat([\n",
    "        answers_df, \n",
    "        pd.DataFrame(answers_df['clues'].to_list(), columns = ['clue_y', 'clue_x'])\n",
    "    ], axis=1)\n",
    "    \n",
    "    answers_df = answers_df.drop(columns=[\"clues\"])\n",
    "    across_words = df.groupby(\"clue_y\")['answer'].sum()\n",
    "    down_words = df.groupby(\"clue_x\")['answer'].sum()\n",
    "\n",
    "    clues = [\n",
    "        x['text'][0]['plain'] for x in \n",
    "        json_request['body'][0]['clues']\n",
    "        if len(x) > 0\n",
    "    ]\n",
    "\n",
    "    table = []\n",
    "    \n",
    "    across_clues = clues[:len(across_words)]\n",
    "    down_clues = clues[len(across_words):]\n",
    "    for (word, clue) in zip(across_words, across_clues):\n",
    "        table.append((puzzle_id, clue, word, 'across'))\n",
    "\n",
    "    for (word, clue) in zip(down_words, down_clues):\n",
    "        table.append((puzzle_id, clue, word, 'down'))\n",
    "    \n",
    "    return table    "
   ]
  },
  {
   "cell_type": "markdown",
   "id": "9612f75e-a15c-4dc0-ad44-ab144a647181",
   "metadata": {},
   "source": [
    "## Requesting Crossword Data"
   ]
  },
  {
   "cell_type": "code",
   "execution_count": 115,
   "id": "6b09aea4-439a-4cd7-b923-11e3fa9946d5",
   "metadata": {},
   "outputs": [
    {
     "name": "stdout",
     "output_type": "stream",
     "text": [
      "Requesting date: 2024-09-28 00:00:00\r"
     ]
    }
   ],
   "source": [
    "date = datetime(2014, 8, 21)\n",
    "end_date = datetime.now()\n",
    "\n",
    "json_requests = []\n",
    "while date <= end_date:\n",
    "    print(f\"Requesting date: {date}\", end=\"\\r\")\n",
    "    json_req = get_crossword_data(date)\n",
    "    json_requests.append(json_req)\n",
    "    date = date + timedelta(days=1)"
   ]
  },
  {
   "cell_type": "markdown",
   "id": "3df57869-4504-4cc9-b2e3-6f66ec6edd7d",
   "metadata": {},
   "source": [
    "## Parsing Metadata"
   ]
  },
  {
   "cell_type": "code",
   "execution_count": 117,
   "id": "884a3e65-1c91-4aa9-8e06-b5a336aa1045",
   "metadata": {},
   "outputs": [],
   "source": [
    "puzzles_metadata = [] \n",
    "for json in json_requests:\n",
    "    puzzle_data = parse_puzzle_metadata(json)    \n",
    "    puzzles_metadata.append(puzzle_data)\n",
    "\n",
    "metadata_df = pd.DataFrame(puzzles_metadata)\n",
    "# metadata_df.to_csv(\"puzzle_metadata_all.csv\", index=False)"
   ]
  },
  {
   "cell_type": "markdown",
   "id": "3df513aa-3d69-4606-8534-2ee9bdb52575",
   "metadata": {},
   "source": [
    "## Parsing Clues and Words"
   ]
  },
  {
   "cell_type": "code",
   "execution_count": 118,
   "id": "71c64918-a2da-43de-9ad7-08e7da93b457",
   "metadata": {},
   "outputs": [],
   "source": [
    "clues_and_words = []\n",
    "for json in json_requests:\n",
    "    puzzle_data = parse_clue_data(json)\n",
    "    clues_and_words.append(puzzle_data)\n",
    "\n",
    "flattened_clues = [\n",
    "    clue \n",
    "    for puzzle in clues_and_words\n",
    "    for clue in puzzle\n",
    "]"
   ]
  },
  {
   "cell_type": "code",
   "execution_count": 119,
   "id": "2d3bcf2d-d783-461e-8485-cb6fdc60c9af",
   "metadata": {},
   "outputs": [],
   "source": [
    "puzzle_words = pd.DataFrame(flattened_clues, columns=[\"puzzle_id\", \"clue\", \"word\", \"direction\"])\n",
    "# puzzle_words.to_csv(\"puzzle_words_all.csv\", index=False)"
   ]
  },
  {
   "cell_type": "code",
   "execution_count": 124,
   "id": "525f38d6-05ae-409e-a79e-02f53d44384a",
   "metadata": {},
   "outputs": [
    {
     "data": {
      "text/plain": [
       "Joel Fagliano                                         3487\n",
       "Christina Iverson                                       62\n",
       "Wyna Liu                                                60\n",
       "Tracy Bennett                                           51\n",
       "Sam Ezersky                                             15\n",
       " Joel Fagliano                                           3\n",
       "Helen Chen                                               2\n",
       "Kanyin Ajayi                                             2\n",
       "Ailee Yoshida                                            2\n",
       "Trey Mendez                                              2\n",
       "Everdeen Mason                                           2\n",
       "Dani Brown (age 11)                                      1\n",
       "Joel Fagliiano                                           1\n",
       "Gustie Owens                                             1\n",
       "Joel Fagliano and The School of The New York Times       1\n",
       "Name: creator, dtype: int64"
      ]
     },
     "execution_count": 124,
     "metadata": {},
     "output_type": "execute_result"
    }
   ],
   "source": [
    "metadata_df['creator'].value_counts()"
   ]
  },
  {
   "cell_type": "code",
   "execution_count": null,
   "id": "87dc8145-b9bf-45b7-8266-0cc9267aafd4",
   "metadata": {},
   "outputs": [],
   "source": []
  }
 ],
 "metadata": {
  "kernelspec": {
   "display_name": "Python 3 (ipykernel)",
   "language": "python",
   "name": "python3"
  },
  "language_info": {
   "codemirror_mode": {
    "name": "ipython",
    "version": 3
   },
   "file_extension": ".py",
   "mimetype": "text/x-python",
   "name": "python",
   "nbconvert_exporter": "python",
   "pygments_lexer": "ipython3",
   "version": "3.10.14"
  }
 },
 "nbformat": 4,
 "nbformat_minor": 5
}
